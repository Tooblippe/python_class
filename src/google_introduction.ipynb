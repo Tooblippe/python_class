{
 "metadata": {
  "name": ""
 },
 "nbformat": 3,
 "nbformat_minor": 0,
 "worksheets": [
  {
   "cells": [
    {
     "cell_type": "markdown",
     "metadata": {},
     "source": [
      "# Python Introduction\n",
      "\n",
      "Python is a dynamic, interpreted language. Source code does not declare the types of variables or parameters or methods. This makes the code short and flexible, and you lose the compile-time type checking in the source code. Python tracks the types of all values at runtime and flags code that does not make sense as it runs. (todo: link here to the companion video segment for this section)\n",
      "\n",
      "An excellent way to see how Python code works is to run the Python interpreter and type code right into it. If you ever have a question like \"what happens if I add an int to a list?\" ... just typing it into the Python interpreter is fast way to see what happens. Python code does not declare the types of variables -- just assign to them and go. Python raises a runtime error if the code tries to read from a variable that has not been given a value. Like C++ and Java, Python is case sensitive so \"a\" and \"A\" are different variables. The end of a line marks the end of a statement, so unlike C++ and Java, Python does not require a semicolon at the end of each statement. You can include semicolons at the end of Python statements (perhaps just out of habit), but it's not the best style. Comments begin with a '#' and extend to the end of the line. (See Python Set Up for how to install and Python on various operating systems.)"
     ]
    },
    {
     "cell_type": "code",
     "collapsed": false,
     "input": [
      "$ python        ## Run the Python interpreter\n",
      "Python 2.7.1 (r271:86832, Jul 31 2011, 19:30:53) \n",
      "[GCC 4.2.1 (Based on Apple Inc. build 5658) (LLVM build 2335.15.00)] on darwin\n",
      "Type \"help\", \"copyright\", \"credits\" or \"license\" for more information."
     ],
     "language": "python",
     "metadata": {},
     "outputs": []
    },
    {
     "cell_type": "code",
     "collapsed": false,
     "input": [
      "a = 6       ## set a variable in this interpreter session,now press ctrl-enter to run   "
     ],
     "language": "python",
     "metadata": {},
     "outputs": [],
     "prompt_number": 2
    },
    {
     "cell_type": "code",
     "collapsed": false,
     "input": [
      "a           ## entering an expression prints its value, press ctrl-enter to run"
     ],
     "language": "python",
     "metadata": {},
     "outputs": [
      {
       "metadata": {},
       "output_type": "pyout",
       "prompt_number": 3,
       "text": [
        "6"
       ]
      }
     ],
     "prompt_number": 3
    },
    {
     "cell_type": "code",
     "collapsed": false,
     "input": [
      "a + 2"
     ],
     "language": "python",
     "metadata": {},
     "outputs": [
      {
       "metadata": {},
       "output_type": "pyout",
       "prompt_number": 4,
       "text": [
        "8"
       ]
      }
     ],
     "prompt_number": 4
    },
    {
     "cell_type": "code",
     "collapsed": false,
     "input": [
      "a = 'hi'    ## a can hold a string just as well"
     ],
     "language": "python",
     "metadata": {},
     "outputs": [],
     "prompt_number": 5
    },
    {
     "cell_type": "code",
     "collapsed": false,
     "input": [
      "a     "
     ],
     "language": "python",
     "metadata": {},
     "outputs": [
      {
       "metadata": {},
       "output_type": "pyout",
       "prompt_number": 6,
       "text": [
        "'hi'"
       ]
      }
     ],
     "prompt_number": 6
    },
    {
     "cell_type": "code",
     "collapsed": false,
     "input": [
      "len(a)      ## call the len() function on a string"
     ],
     "language": "python",
     "metadata": {},
     "outputs": [
      {
       "metadata": {},
       "output_type": "pyout",
       "prompt_number": 7,
       "text": [
        "2"
       ]
      }
     ],
     "prompt_number": 7
    },
    {
     "cell_type": "code",
     "collapsed": false,
     "input": [
      " foo(a)      ## try something that doesn't work"
     ],
     "language": "python",
     "metadata": {},
     "outputs": [
      {
       "ename": "NameError",
       "evalue": "name 'foo' is not defined",
       "output_type": "pyerr",
       "traceback": [
        "\u001b[1;31m---------------------------------------------------------------------------\u001b[0m\n\u001b[1;31mNameError\u001b[0m                                 Traceback (most recent call last)",
        "\u001b[1;32m<ipython-input-9-3f9f6e213eab>\u001b[0m in \u001b[0;36m<module>\u001b[1;34m()\u001b[0m\n\u001b[1;32m----> 1\u001b[1;33m \u001b[0mfoo\u001b[0m\u001b[1;33m(\u001b[0m\u001b[0ma\u001b[0m\u001b[1;33m)\u001b[0m      \u001b[1;31m## try something that doesn't work\u001b[0m\u001b[1;33m\u001b[0m\u001b[0m\n\u001b[0m",
        "\u001b[1;31mNameError\u001b[0m: name 'foo' is not defined"
       ]
      }
     ],
     "prompt_number": 9
    },
    {
     "cell_type": "markdown",
     "metadata": {},
     "source": [
      "Python source files use the \".py\" extension. With a Python program in file hello.py, the easiest way to run it is with the shell command \"python hello.py Alice\" -- loading and running the code in hello.py, passing it the command line argument \"Alice\".\n",
      "Here's a very simple Python hello.py program (notice that blocks of code are delimited strictly using indentation rather than curly braces -- more on this later!):"
     ]
    },
    {
     "cell_type": "markdown",
     "metadata": {},
     "source": [
      "```\n",
      "#!/usr/bin/python\n",
      "\n",
      "# import modules used here -- sys is a very standard one\n",
      "import sys\n",
      "\n",
      "# Gather our code in a main() function\n",
      "def main():\n",
      "    print 'Hello there', sys.argv[1]\n",
      "    # Command line args are in sys.argv[1], sys.argv[2] ...\n",
      "    # sys.argv[0] is the script name itself and can be ignored\n",
      "\n",
      "# Standard boilerplate to call the main() function to begin\n",
      "# the program.\n",
      "if __name__ == '__main__':\n",
      "    main()\n",
      "Running this program from the command line looks like:\n",
      "\n",
      "$ python hello.py Guido\n",
      "Hello there Guido\n",
      "$ ./hello.py Alice    # without needing 'python' first (Unix)\n",
      "Hello there Alice\n",
      "Python Module```"
     ]
    },
    {
     "cell_type": "markdown",
     "metadata": {},
     "source": [
      "The outermost statements in a Python file, or \"module\", do its one-time setup -- those statements run from top to bottom the first time the module is imported somewhere, setting up its variables and functions. A Python module can be run directly -- as above \"python hello.py Bob\" -- or it can be imported and used by some other module. When a Python file is run directly, the special variable \"__name__\" is set to \"__main__\". Therefore, it's common to have the boilerplate if __name__ ==... shown above to call a main() function when the module is run directly, but not when the module is imported by some other module.\n",
      "\n",
      "In a standard Python program, the list sys.argv contains the command line arguments in the standard way with sys.argv[0] being the program itself, sys.argv[1] the first argument, and so on.\n",
      "\n",
      " #Functions\n",
      "\n",
      "Functions in Python are defined like this:"
     ]
    },
    {
     "cell_type": "code",
     "collapsed": false,
     "input": [
      "# Defines a \"repeat\" function that takes 2 arguments.\n",
      "def repeat(s, exclaim):\n",
      "    \"\"\"Returns the string s repeated 3 times.\n",
      "    If exclaim is true, add exclamation marks.\n",
      "    \"\"\"\n",
      "\n",
      "    result = s + s + s # can also use \"s * 3\" which is faster (Why?)\n",
      "    if exclaim:\n",
      "        result = result + '!!!'\n",
      "    return result"
     ],
     "language": "python",
     "metadata": {},
     "outputs": [],
     "prompt_number": 10
    },
    {
     "cell_type": "markdown",
     "metadata": {},
     "source": [
      "Notice also how the lines that make up the function or if-statement are grouped by all having the same level of indentation. We also presented 2 different ways to repeat strings, using the + operator which is more user-friendly, but * also works because it's Python's \"repeat\" operator, meaning that '-' * 10 gives '----------', a neat way to create an onscreen \"line.\" In the code comment, we hinted that * works faster than +, the reason being that * calculates the size of the resulting object once whereas with +, that calculation is made each time + is called. Both + and * are called \"overloaded\" operators because they mean different things for numbers vs. for strings (and other data types).\n",
      "\n",
      "The \"def\" defines the function with its parameters within parentheses and its code indented. The first line of a function can be a documentation string (\"docstring\") that describes what the function does. The docstring can be a single line, or a multi-line description as in the example above. Variables defined in the function are local to that function, so the \"result\" in the above function is separate from a \"result\" variable in another function. The return statement can take an argument, in which case that is the value returned to the caller.\n",
      "\n",
      "Here is code that calls the above repeat() function, printing what it returns:"
     ]
    },
    {
     "cell_type": "code",
     "collapsed": false,
     "input": [
      "print repeat('Yay', False)      ## YayYayYay"
     ],
     "language": "python",
     "metadata": {},
     "outputs": [
      {
       "output_type": "stream",
       "stream": "stdout",
       "text": [
        "YayYayYay\n"
       ]
      }
     ],
     "prompt_number": 11
    },
    {
     "cell_type": "code",
     "collapsed": false,
     "input": [
      "print repeat('Woo Hoo', True)   ## Woo HooWoo HooWoo Hoo!!!\n",
      "    "
     ],
     "language": "python",
     "metadata": {},
     "outputs": [
      {
       "output_type": "stream",
       "stream": "stdout",
       "text": [
        "Woo HooWoo HooWoo Hoo!!!\n"
       ]
      }
     ],
     "prompt_number": 12
    },
    {
     "cell_type": "markdown",
     "metadata": {},
     "source": [
      "    \n",
      "At run time, functions must be defined by the execution of a \"def\" before they are called. It's typical to def a main() function towards the bottom of the file with the functions it calls above it.\n",
      "\n",
      "# Indentation\n",
      "\n",
      "One unusual Python feature is that the whitespace indentation of a piece of code affects its meaning. A logical block of statements such as the ones that make up a function should all have the same indentation, set in from the indentation of their parent function or \"if\" or whatever. If one of the lines in a group has a different indentation, it is flagged as a syntax error.\n",
      "\n",
      "Python's use of whitespace feels a little strange at first, but it's logical and I found I got used to it very quickly. Avoid using TABs as they greatly complicate the indentation scheme (not to mention TABs may mean different things on different platforms). Set your editor to insert spaces instead of TABs for Python code.\n",
      "\n",
      "A common question beginners ask is, \"How many spaces should I indent?\" According to the official Python style guidelines (PEP 8), you should indent with 4 spaces. (Fun fact: Google's internal style guideline dictates indenting by 2 spaces!)\n",
      "\n",
      "# Code Is Checked At Runtime\n",
      "\n",
      "Python does very little checking at compile time, deferring almost all type, name, etc. checks on each line until that line runs. Suppose the above main() calls repeat() like this:"
     ]
    },
    {
     "cell_type": "code",
     "collapsed": false,
     "input": [
      "def main():\n",
      "    if name == 'Guido':\n",
      "        print repeeeet(name) + '!!!'\n",
      "    else:\n",
      "        print repeat(name)\n",
      "        "
     ],
     "language": "python",
     "metadata": {},
     "outputs": []
    },
    {
     "cell_type": "markdown",
     "metadata": {},
     "source": [
      "The if-statement contains an obvious error, where the repeat() function is accidentally typed in as repeeeet(). The funny thing in Python ... this code compiles and runs fine so long as the name at runtime is not 'Guido'. Only when a run actually tries to execute the repeeeet() will it notice that there is no such function and raise an error. This just means that when you first run a Python program, some of the first errors you see will be simple typos like this. This is one area where languages with a more verbose type system, like Java, have an advantage ... they can catch such errors at compile time (but of course you have to maintain all that type information ... it's a tradeoff).\n",
      "\n",
      "# Variable Names\n",
      "\n",
      "Since Python variables don't have any type spelled out in the source code, it's extra helpful to give meaningful names to your variables to remind yourself of what's going on. So use \"name\" if it's a single name, and \"names\" if it's a list of names, and \"tuples\" if it's a list of tuples. Many basic Python errors result from forgetting what type of value is in each variable, so use your variable names (all you have really) to help keep things straight.\n",
      "\n",
      "# Modules and Imports\n",
      "\n",
      "One file of Python code is called a *module*. The file \"binky.py\" is also known as the module \"binky\". A module essentially contains variable definitions like, \"x = 6\" and \"def foo()\". Suppose the file \"binky.py\" contains a \"def foo()\". The fully qualified name of that foo function is \"binky.foo\". In this way, various Python modules can name their functions and variables whatever they want, and the variable names won't conflict -- module1.foo is different from module2.foo.\n",
      "\n",
      "For example, we have the standard \"sys\" module that contains some standard system facilities, like the argv list, and exit() function. With the statement \"import sys\" you can can then access the definitions in the sys module and makes them available by their fully-qualified name, e.g. sys.exit()."
     ]
    },
    {
     "cell_type": "code",
     "collapsed": false,
     "input": [
      "import sys\n",
      "\n",
      "  # Now can refer to sys.xxx facilities\n",
      "print  sys.copyright\n",
      "  "
     ],
     "language": "python",
     "metadata": {},
     "outputs": [
      {
       "output_type": "stream",
       "stream": "stdout",
       "text": [
        "Copyright (c) 2001-2012 Python Software Foundation.\n",
        "All Rights Reserved.\n",
        "\n",
        "Copyright (c) 2000 BeOpen.com.\n",
        "All Rights Reserved.\n",
        "\n",
        "Copyright (c) 1995-2001 Corporation for National Research Initiatives.\n",
        "All Rights Reserved.\n",
        "\n",
        "Copyright (c) 1991-1995 Stichting Mathematisch Centrum, Amsterdam.\n",
        "All Rights Reserved.\n"
       ]
      }
     ],
     "prompt_number": 16
    },
    {
     "cell_type": "markdown",
     "metadata": {},
     "source": [
      "  \n",
      "There is another import form that looks like this: \"from sys import argv, exit\". That makes argv and exit() available by their short names; however, we recommend the original form with the fully-qualified names because it's a lot easier to determine where a function or attribute came from.\n",
      "\n",
      "There are many modules and packages which are bundled with a standard installation of the Python interpreter, so you don't have do anything extra to use them. These are collectively known as the \"Python Standard Library.\" Commonly used modules/packages include:\n",
      "\n",
      "sys -- access to exit(), argv, stdin, stdout, ...\n",
      "re -- regular expressions\n",
      "os -- operating system interface, file system\n",
      "You can find the documentation of all the Standard Library modules and packages at http://docs.python.org/library.\n",
      "\n",
      "# Online help and dir\n",
      "\n",
      "There are a variety ways to get help for Python.\n",
      "\n",
      "Do a Google search, starting with the word \"python\", like \"python list\" or \"python string lowercase\". The first hit is often the answer. This technique seems to work better for Python than it does for other languages for some reason.\n",
      "The official Python docs site -- docs.python.org -- has high quality docs. Nonetheless, I often find a Google search of a couple words to be quicker.\n",
      "There is also an official Tutor mailing list specifically designed for those who are new to Python and/or programming!\n",
      "Many questions (and answers) can be found on StackOverflow.\n",
      "Use the help() [and dir()] functions described below.\n",
      "Inside the Python interpreter, the help() function pulls up documentation strings for various modules, functions, and methods. These doc strings are similar to Java's javadoc. This is one way to get quick access to docs. Here are some ways to call help() from inside the interpreter:\n",
      "\n",
      "* help(len) -- docs for the built in len function (note here you type \"len\" not \"len()\" which would be a call to the function)\n",
      "* help(sys) -- overview docs for the sys module (must do an \"import sys\" first)\n",
      "* dir(sys) -- dir() is like help() but just gives a quick list of the defined symbols\n",
      "* help(sys.exit) -- docs for the exit() function inside of sys\n",
      "* help('xyz'.split) -- it turns out that the module \"str\" contains the built-in string code, but if you did not know that, you can call help() just using an example of the sort of call you mean: here 'xyz'.foo meaning the foo() method that runs on strings\n",
      "* help(list) -- docs for the built in \"list\" module\n",
      "* help(list.append) -- docs for the append() function in the list module"
     ]
    },
    {
     "cell_type": "code",
     "collapsed": false,
     "input": [
      "#  load custom css \n",
      "from IPython.core.display import HTML\n",
      "def css_styling():\n",
      "    styles = open(\"static\\custom.css\", \"r\").read()\n",
      "    return HTML(styles)\n",
      "css_styling()"
     ],
     "language": "python",
     "metadata": {},
     "outputs": [
      {
       "html": [
        "\n",
        "<style>\n",
        "    @font-face {\n",
        "        font-family: \"Computer Modern\";\n",
        "        src: url('http://mirrors.ctan.org/fonts/cm-unicode/fonts/otf/cmunss.otf');\n",
        "    }\n",
        "    div.cell{\n",
        "        width:900px;\n",
        "        margin-left:10% !important;\n",
        "        margin-right:auto;\n",
        "    }\n",
        "    h1 {\n",
        "        font-family: Helvetica, serif;\n",
        "    }\n",
        "    h4{\n",
        "        margin-top:12px;\n",
        "        margin-bottom: 3px;\n",
        "       }\n",
        "    div.text_cell_render{\n",
        "        font-family: Computer Modern, \"Helvetica Neue\", Arial, Helvetica, Geneva, sans-serif;\n",
        "        line-height: 145%;\n",
        "        font-size: 130%;\n",
        "        width:800px;\n",
        "        margin-left:auto;\n",
        "        margin-right:auto;\n",
        "    }\n",
        "    .CodeMirror{\n",
        "            font-family: \"Source Code Pro\", source-code-pro,Consolas, monospace;\n",
        "    }\n",
        "    .prompt{\n",
        "        display: None;\n",
        "    }\n",
        "    .text_cell_render h5 {\n",
        "        font-weight: 300;\n",
        "        font-size: 22pt;\n",
        "        color: #4057A1;\n",
        "        font-style: italic;\n",
        "        margin-bottom: .5em;\n",
        "        margin-top: 0.5em;\n",
        "        display: block;\n",
        "    }\n",
        "    \n",
        "    .warning{\n",
        "        color: rgb( 240, 20, 20 )\n",
        "        }  \n",
        "</style>\n",
        "<script>\n",
        "    MathJax.Hub.Config({\n",
        "                        TeX: {\n",
        "                           extensions: [\"AMSmath.js\"]\n",
        "                           },\n",
        "                tex2jax: {\n",
        "                    inlineMath: [ ['$','$'], [\"\\\\(\",\"\\\\)\"] ],\n",
        "                    displayMath: [ ['$$','$$'], [\"\\\\[\",\"\\\\]\"] ]\n",
        "                },\n",
        "                displayAlign: 'center', // Change this to 'center' to center equations.\n",
        "                \"HTML-CSS\": {\n",
        "                    styles: {'.MathJax_Display': {\"margin\": 4}}\n",
        "                }\n",
        "        });\n",
        "</script>"
       ],
       "metadata": {},
       "output_type": "pyout",
       "prompt_number": 1,
       "text": [
        "<IPython.core.display.HTML at 0x3008830>"
       ]
      }
     ],
     "prompt_number": 1
    },
    {
     "cell_type": "code",
     "collapsed": false,
     "input": [],
     "language": "python",
     "metadata": {},
     "outputs": []
    }
   ],
   "metadata": {}
  }
 ]
}